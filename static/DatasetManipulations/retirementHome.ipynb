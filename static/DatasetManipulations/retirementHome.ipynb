{
 "cells": [
  {
   "cell_type": "code",
   "execution_count": null,
   "metadata": {},
   "outputs": [],
   "source": [
    "# Import python modules and packages\n",
    "import csv\n",
    "import pandas as pd\n",
    "import re"
   ]
  },
  {
   "cell_type": "code",
   "execution_count": null,
   "metadata": {},
   "outputs": [],
   "source": [
    "# Read in the raw data from the .csv file for the nursing homes and performance\n",
    "nursing_df = pd.read_csv('../Resources/Provider_Info.csv')\n",
    "\n",
    "# Verify the data was imported\n",
    "print(f'Shape of DataFrame: {nursing_df.shape}')\n",
    "nursing_df"
   ]
  },
  {
   "cell_type": "code",
   "execution_count": null,
   "metadata": {},
   "outputs": [],
   "source": [
    "# Testing for duplicate rows\n",
    "print(f'Initial number of rows: {nursing_df.shape[0]}')\n",
    "nursing_df = nursing_df.drop_duplicates()\n",
    "print(f'Number of rows after dropping duplicate rows: {nursing_df.shape[0]}')"
   ]
  },
  {
   "cell_type": "code",
   "execution_count": null,
   "metadata": {},
   "outputs": [],
   "source": [
    "# Testing for uniqueness of 'Federal Provider Number'\n",
    "print(f'Number of rows: {nursing_df.shape[0]}')\n",
    "print(f'Number of unique \"Federal Provider Number\"s: {len(nursing_df[\"Federal Provider Number\"].unique())}')"
   ]
  },
  {
   "cell_type": "code",
   "execution_count": null,
   "metadata": {},
   "outputs": [],
   "source": [
    "# Because the the resulting numbers are the same in the cell above, we can conclude that there are no \n",
    "# duplicate \"Federal Provider Number\"s and so it can be used as a primary key. "
   ]
  },
  {
   "cell_type": "code",
   "execution_count": null,
   "metadata": {},
   "outputs": [],
   "source": [
    "# Show all the columns\n",
    "nursing_df.columns"
   ]
  },
  {
   "cell_type": "code",
   "execution_count": null,
   "metadata": {},
   "outputs": [],
   "source": [
    "# Investigate the types of the columns that are present\n",
    "nursing_df.dtypes"
   ]
  },
  {
   "cell_type": "code",
   "execution_count": null,
   "metadata": {},
   "outputs": [],
   "source": [
    "# Investigate the count of non-nan values for the columns\n",
    "print(nursing_df.count().loc[nursing_df.count() < nursing_df.shape[0]])"
   ]
  },
  {
   "cell_type": "code",
   "execution_count": null,
   "metadata": {},
   "outputs": [],
   "source": [
    "# Because location plays an important role in decision making for all sorts of reasons\n",
    "# (e.g. weather, taxes, large city or rural area, proximity to family, ... etc.), any \n",
    "# nursing home without a location associated with it will be dropped from consideration\n",
    "no_nan_n_df = nursing_df.dropna(subset = ['Location'])\n",
    "no_nan_n_df.count()"
   ]
  },
  {
   "cell_type": "code",
   "execution_count": null,
   "metadata": {},
   "outputs": [],
   "source": [
    "# Extract coordinates from the 'Location' column and insert 'Null' if there are no\n",
    "# coordinates listed for a location.\n",
    "coord_n_df = no_nan_n_df.copy()\n",
    "coord_n_df['Coordinates'] = [re.search('\\([-]?\\d+\\.\\d+, [-]?\\d+\\.\\d+\\)', row).group() if len(re.findall('\\([-]?\\d+\\.\\d+, [-]?\\d+\\.\\d+\\)', row)) > 0 else 'Null' for row in no_nan_n_df['Location'] ]"
   ]
  },
  {
   "cell_type": "code",
   "execution_count": null,
   "metadata": {},
   "outputs": [],
   "source": [
    "# Verify that the column Coordinates was added\n",
    "print(coord_n_df.shape)\n",
    "coord_n_df[['Federal Provider Number', 'Location', 'Coordinates']]"
   ]
  },
  {
   "cell_type": "code",
   "execution_count": null,
   "metadata": {},
   "outputs": [],
   "source": [
    "\n",
    "# Remove all rows that have a 'Null' for their 'Coordinates' value primarily b/c\n",
    "# the time comsumed for tracking down why coordinates couldn't be determined is beyond\n",
    "# the limits of this project's time horizon.\n",
    "coord_n_df = coord_n_df.loc[coord_n_df['Coordinates'] != 'Null']\n",
    "\n",
    "#Verify the any 'Null' Location rows were removed\n",
    "print(coord_n_df.shape)\n",
    "coord_n_df.reset_index(inplace=True)\n",
    "coord_n_df.head(10)"
   ]
  },
  {
   "cell_type": "code",
   "execution_count": null,
   "metadata": {},
   "outputs": [],
   "source": [
    "\n",
    "# Remove extra column created by reset_index\n",
    "del coord_n_df['level_0']\n",
    "coord_n_df"
   ]
  },
  {
   "cell_type": "code",
   "execution_count": null,
   "metadata": {},
   "outputs": [],
   "source": [
    "# Extract the Latitude from the Coordinates column and create a Latitude column with the value\n",
    "# extracted\n",
    "coord_n_df['Latitude'] = [re.search('[-]?\\d+\\.\\d+', row).group() for row in coord_n_df['Coordinates']]\n",
    "coord_n_df.head()\n",
    "coord_n_df[['Federal Provider Number', 'Location', 'Coordinates', 'Latitude']]"
   ]
  },
  {
   "cell_type": "code",
   "execution_count": null,
   "metadata": {},
   "outputs": [],
   "source": [
    "# Extract the Longitude from the Coordinates column and create a Longitude column with the value\n",
    "# extracted\n",
    "coord_n_df['Longitude'] = [re.findall('[-]?\\d+\\.\\d+', row)[1] for row in coord_n_df['Coordinates']]\n",
    "print(coord_n_df.shape)\n",
    "coord_n_df[['Federal Provider Number', 'Location', 'Coordinates', 'Latitude', 'Longitude']]"
   ]
  },
  {
   "cell_type": "code",
   "execution_count": null,
   "metadata": {},
   "outputs": [],
   "source": [
    "# State the number of columns before deleting a column, so as to verify the\n",
    "# column deletion after the fact.\n",
    "len(coord_n_df.columns)"
   ]
  },
  {
   "cell_type": "code",
   "execution_count": null,
   "metadata": {},
   "outputs": [],
   "source": [
    "# Deleting the redundant Coordinates column (Latitude and Longitude columns\n",
    "# make it redundant).\n",
    "del coord_n_df['Coordinates']"
   ]
  },
  {
   "cell_type": "code",
   "execution_count": null,
   "metadata": {},
   "outputs": [],
   "source": [
    "\n",
    "# Verify that the column count reduced by 1\n",
    "len(coord_n_df.columns)"
   ]
  },
  {
   "cell_type": "code",
   "execution_count": null,
   "metadata": {},
   "outputs": [],
   "source": [
    "\n",
    "# Verify that the Coordinates column is gone and the rest of the dataframe is \n",
    "# unaffected\n",
    "coord_n_df.head()"
   ]
  },
  {
   "cell_type": "code",
   "execution_count": null,
   "metadata": {},
   "outputs": [],
   "source": [
    "# Print all columns as an aid in deciding which columns to keep and which to\n",
    "# truncate from the dataframe\n",
    "print(len(coord_n_df.columns))\n",
    "coord_n_df.columns\n"
   ]
  },
  {
   "cell_type": "code",
   "execution_count": null,
   "metadata": {},
   "outputs": [],
   "source": [
    "# Remove extraneous columns\n",
    "list_of_columns_to_keep = ['Federal Provider Number', 'Provider Name', \n",
    "    'Provider City', 'Provider State', 'Provider Zip Code', 'Provider County Name',\n",
    "    'Ownership Type', 'Number of Certified Beds', 'Number of Residents in Certified Beds', \n",
    "    'Provider Type', 'Provider Resides in Hospital', \n",
    "    'Most Recent Health Inspection More Than 2 Years Ago', \n",
    "    'Automatic Sprinkler Systems in All Required Areas', 'Overall Rating',\n",
    "    'Health Inspection Rating','Staffing Rating','RN Staffing Rating',\n",
    "    'Total Weighted Health Survey Score','Number of Facility Reported Incidents',\n",
    "    'Number of Substantiated Complaints', 'Number of Fines',\n",
    "    'Total Amount of Fines in Dollars', 'Number of Payment Denials',\n",
    "    'Total Number of Penalties', 'Location', 'Processing Date', 'Latitude',\n",
    "    'Adjusted Total Nurse Staffing Hours per Resident per Day', 'Longitude']\n",
    "\n",
    "truncated_nursing_df = pd.DataFrame()\n",
    "truncated_nursing_df = coord_n_df[list_of_columns_to_keep]\n"
   ]
  },
  {
   "cell_type": "code",
   "execution_count": null,
   "metadata": {},
   "outputs": [],
   "source": [
    "# Assure that the columns to keep were kept and the columns to remove\n",
    "# were removed\n",
    "print(len(truncated_nursing_df.columns))\n",
    "truncated_nursing_df.columns"
   ]
  },
  {
   "cell_type": "code",
   "execution_count": null,
   "metadata": {},
   "outputs": [],
   "source": [
    "# Calculating R Coefficients between columns\n",
    "correlations_df = truncated_nursing_df.corr()\n",
    "correlations_df"
   ]
  },
  {
   "cell_type": "code",
   "execution_count": null,
   "metadata": {},
   "outputs": [],
   "source": [
    "correlations_df.insert(0, 'Column Of Category', correlations_df.index)\n",
    "correlations_df"
   ]
  },
  {
   "cell_type": "code",
   "execution_count": null,
   "metadata": {},
   "outputs": [],
   "source": [
    "\n",
    "# Save correlations to file\n",
    "correlations_df.to_json('./correlations_df_by_record.json', orient='records')"
   ]
  },
  {
   "cell_type": "code",
   "execution_count": null,
   "metadata": {},
   "outputs": [],
   "source": [
    "# Create a saving point (for the loading point in the cell below)\n",
    "truncated_nursing_df.to_json('./truncated_nursing_df1.json')\n",
    "truncated_nursing_df.to_json('./truncated_nursing_df1_by_record.json', orient='records')\n",
    "truncated_nursing_df.to_csv('./truncated_nursing_df1.csv', index=False)"
   ]
  },
  {
   "cell_type": "code",
   "execution_count": null,
   "metadata": {},
   "outputs": [],
   "source": [
    "# Create a loading point to skip all the previous cells when rerunning\n",
    "# the code further past this cell\n",
    "truncated_nursing_df = pd.read_csv('./truncated_nursing_df1.csv')"
   ]
  },
  {
   "cell_type": "code",
   "execution_count": null,
   "metadata": {},
   "outputs": [],
   "source": [
    "# Verify that the load of the data was successful\n",
    "print(truncated_nursing_df.shape)\n",
    "truncated_nursing_df.head()"
   ]
  },
  {
   "cell_type": "code",
   "execution_count": null,
   "metadata": {},
   "outputs": [],
   "source": [
    "# Create the a performance table\n",
    "list_of_performance_columns_df = ['Most Recent Health Inspection More Than 2 Years Ago', 'Overall Rating',\n",
    "       'Health Inspection Rating', 'Staffing Rating', 'RN Staffing Rating',\n",
    "       'Total Weighted Health Survey Score',\n",
    "       'Number of Facility Reported Incidents',\n",
    "       'Number of Substantiated Complaints', 'Number of Fines',\n",
    "       'Total Amount of Fines in Dollars', 'Number of Payment Denials',\n",
    "       'Total Number of Penalties']\n",
    "\n",
    "performance_table_df = pd.DataFrame()\n",
    "performance_table_df[list_of_performance_columns_df] = truncated_nursing_df[list_of_performance_columns_df]\n",
    "\n",
    "# Verify that the performance table was created\n",
    "print(performance_table_df.shape)\n",
    "performance_table_df.head()"
   ]
  },
  {
   "cell_type": "code",
   "execution_count": null,
   "metadata": {},
   "outputs": [],
   "source": [
    "# Show the number of rows in performance_table_df just before any duplicate rows are\n",
    "# dropped to verify that rows were dropped.\n",
    "performance_table_df.shape"
   ]
  },
  {
   "cell_type": "code",
   "execution_count": null,
   "metadata": {},
   "outputs": [],
   "source": [
    "# Remove dupulicate rows\n",
    "performance_table_df.drop_duplicates(subset=list_of_performance_columns_df, inplace=True)"
   ]
  },
  {
   "cell_type": "code",
   "execution_count": null,
   "metadata": {},
   "outputs": [],
   "source": [
    "# Verify that rows were dropped.\n",
    "print(performance_table_df.shape)"
   ]
  },
  {
   "cell_type": "code",
   "execution_count": null,
   "metadata": {},
   "outputs": [],
   "source": [
    "# Create a primary key for performance_table_df called 'performance_id'. \n",
    "performance_table_df['performance_id'] = [i for i in range(performance_table_df.shape[0])]\n",
    "\n",
    "# Verify that 'performance_id' was created\n",
    "print(performance_table_df.shape)\n",
    "performance_table_df.head()"
   ]
  },
  {
   "cell_type": "code",
   "execution_count": null,
   "metadata": {},
   "outputs": [],
   "source": [
    "# Save performance table data to a .csv and .json (for the loading point in the cell below and \n",
    "# for data manipulations, respectively)\n",
    "performance_table_df.to_csv('../TableData/performance_table.csv', index=False)\n",
    "performance_table_df.to_json('../TableData/performance_table.json')"
   ]
  },
  {
   "cell_type": "code",
   "execution_count": null,
   "metadata": {},
   "outputs": [],
   "source": [
    "# Create a loading point to skip all the previous cells when rerunning\n",
    "# the code further past this cell\n",
    "performance_table_df = pd.read_csv('../TableData/performance_table.csv')"
   ]
  },
  {
   "cell_type": "code",
   "execution_count": null,
   "metadata": {},
   "outputs": [],
   "source": [
    "# Verify that the load of the data was successful\n",
    "print(performance_table_df.shape)\n",
    "performance_table_df.head()"
   ]
  },
  {
   "cell_type": "code",
   "execution_count": null,
   "metadata": {},
   "outputs": [],
   "source": [
    "# Show the shape of truncated_nursing_df just before adding a column for verification\n",
    "# after the column is added\n",
    "truncated_nursing_df.shape"
   ]
  },
  {
   "cell_type": "code",
   "execution_count": null,
   "metadata": {},
   "outputs": [],
   "source": [
    "# Add a column for the foreign key called performance_id in what will be used\n",
    "# to create the business_table_df further below and initialize performance_id\n",
    "# to an unused and recognizable value (-1)\n",
    "truncated_nursing_df['performance_id'] = -1"
   ]
  },
  {
   "cell_type": "code",
   "execution_count": null,
   "metadata": {},
   "outputs": [],
   "source": [
    "\n",
    "# Verify that the column was added\n",
    "print(truncated_nursing_df.shape)\n",
    "truncated_nursing_df[['Provider Name', 'performance_id']]"
   ]
  },
  {
   "cell_type": "code",
   "execution_count": null,
   "metadata": {},
   "outputs": [],
   "source": [
    "# Add corrected performance_id foriegn key to truncated_nursing_df\n",
    "for i in range(truncated_nursing_df.shape[0]):\n",
    "    for j in range(performance_table_df.shape[0]):\n",
    "        all_performance_columns_match = True\n",
    "        for k in range(len(list_of_performance_columns_df)):\n",
    "\n",
    "            # Must convert the value to str otherwise the 'nan' of truncated_nursing_df can't\n",
    "            # match the 'nan' of performance_table_df\n",
    "            if str(truncated_nursing_df[list_of_performance_columns_df[k]].iloc[i]) != str(performance_table_df[list_of_performance_columns_df[k]].iloc[j]):\n",
    "                all_performance_columns_match = False\n",
    "                break\n",
    "        if  all_performance_columns_match:     \n",
    "            truncated_nursing_df['performance_id'].iloc[i] = performance_table_df['performance_id'].iloc[j]\n",
    "            break\n",
    "\n"
   ]
  },
  {
   "cell_type": "code",
   "execution_count": null,
   "metadata": {},
   "outputs": [],
   "source": [
    "# Verify that foreign keys 'perfomance_id' are no longer '-1'\n",
    "print(len(truncated_nursing_df[truncated_nursing_df['performance_id'] != '-1']))\n",
    "print(truncated_nursing_df.shape[0])\n",
    "truncated_nursing_df[['Provider Name', 'performance_id']]"
   ]
  },
  {
   "cell_type": "code",
   "execution_count": null,
   "metadata": {},
   "outputs": [],
   "source": [
    "# Show that record 407 of the truncated table and row 16 of the performance table have the\n",
    "# same values for the columns of performance table (list_of_performance_columns_df) and\n",
    "# have the same performance_id (16) associated with them.\n",
    "print(truncated_nursing_df[list_of_performance_columns_df].iloc[407])\n",
    "print(f\"performance_id for truncated is: {truncated_nursing_df['performance_id'].iloc[407]}\")\n",
    "performance_table_df.iloc[16]"
   ]
  },
  {
   "cell_type": "code",
   "execution_count": null,
   "metadata": {},
   "outputs": [],
   "source": [
    "# Show the shape of truncated_nursing_df before the save point to compare\n",
    "# with its shape after the save point\n",
    "truncated_nursing_df.shape"
   ]
  },
  {
   "cell_type": "code",
   "execution_count": null,
   "metadata": {},
   "outputs": [],
   "source": [
    "# Create a saving point (for the loading point in the cell below)\n",
    "truncated_nursing_df.to_csv('./truncated_nursing_df2.csv', index=False)\n",
    "truncated_nursing_df.to_json('./truncated_nursing_df2_by_record.json', orient='records')\n",
    "truncated_nursing_df.to_json('./truncated_nursing_df2.json')\n"
   ]
  },
  {
   "cell_type": "code",
   "execution_count": null,
   "metadata": {},
   "outputs": [],
   "source": [
    "# Create a loading point to skip all the previous cells when rerunning\n",
    "# the code further past this cell\n",
    "truncated_nursing_df = pd.read_csv('./truncated_nursing_df2.csv')"
   ]
  },
  {
   "cell_type": "code",
   "execution_count": null,
   "metadata": {},
   "outputs": [],
   "source": [
    "# Verify that the load of the data was successful\n",
    "print(truncated_nursing_df.shape)\n",
    "truncated_nursing_df.head()"
   ]
  },
  {
   "cell_type": "code",
   "execution_count": null,
   "metadata": {},
   "outputs": [],
   "source": [
    "# Create the a business table\n",
    "list_of_business_columns = ['Federal Provider Number', 'Provider Name', \n",
    "    'Provider City', 'Provider Zip Code', 'Provider County Name',\n",
    "    'Ownership Type', 'Number of Certified Beds', 'Number of Residents in Certified Beds', \n",
    "    'Provider Type', 'Provider Resides in Hospital',  \n",
    "    'Automatic Sprinkler Systems in All Required Areas', 'Location', 'Processing Date', \n",
    "    'Latitude','Longitude', 'Adjusted Total Nurse Staffing Hours per Resident per Day',\n",
    "    'performance_id']\n",
    "business_table_df = pd.DataFrame()\n",
    "business_table_df[list_of_business_columns] = truncated_nursing_df[list_of_business_columns] \n",
    "\n",
    "# Verify that the business table was created\n",
    "print(business_table_df.shape)\n",
    "business_table_df.head()"
   ]
  },
  {
   "cell_type": "code",
   "execution_count": null,
   "metadata": {},
   "outputs": [],
   "source": [
    "# Save business table and create a saving point (for the loading point in the cell below)\n",
    "business_table_df.to_csv('../TableData/business_table.csv', index=False)\n",
    "business_table_df.to_json('../TableData/business_table.json')"
   ]
  },
  {
   "cell_type": "code",
   "execution_count": null,
   "metadata": {},
   "outputs": [],
   "source": [
    "# Create a loading point to skip all the previous cells when rerunning\n",
    "# the code further past this cell\n",
    "business_table_df = pd.read_csv('../TableData/business_table.csv')"
   ]
  },
  {
   "cell_type": "code",
   "execution_count": null,
   "metadata": {},
   "outputs": [],
   "source": [
    "# Verify that the load of the data was successful\n",
    "print(business_table_df.shape)\n",
    "business_table_df.head()"
   ]
  },
  {
   "cell_type": "code",
   "execution_count": null,
   "metadata": {},
   "outputs": [],
   "source": [
    "# Create a zipcode table\n",
    "list_of_state_zipcodes = ['Provider State', 'Provider Zip Code']\n",
    "zip_state_table_df = pd.DataFrame()\n",
    "zip_state_table_df[list_of_state_zipcodes] = truncated_nursing_df[list_of_state_zipcodes]\n",
    "\n",
    "# Verify that the load of the data was successful\n",
    "print(zip_state_table_df.shape)\n",
    "zip_state_table_df.head()"
   ]
  },
  {
   "cell_type": "code",
   "execution_count": null,
   "metadata": {},
   "outputs": [],
   "source": [
    "# Show number of rows before dropping the duplicates\n",
    "print(zip_state_table_df.shape[0])"
   ]
  },
  {
   "cell_type": "code",
   "execution_count": null,
   "metadata": {},
   "outputs": [],
   "source": [
    "# Drop duplicate rows\n",
    "zip_state_table_df.drop_duplicates(inplace=True)"
   ]
  },
  {
   "cell_type": "code",
   "execution_count": null,
   "metadata": {},
   "outputs": [],
   "source": [
    "# Verify that rows were dropped\n",
    "print(zip_state_table_df.shape)\n",
    "zip_state_table_df.head()"
   ]
  },
  {
   "cell_type": "code",
   "execution_count": null,
   "metadata": {},
   "outputs": [],
   "source": [
    "# Save zipcode table and create a saving point (for the loading point in the cell below)\n",
    "zip_state_table_df.to_csv('../TableData/zipcode_table.csv', index=False)\n",
    "zip_state_table_df.to_json('../TableData/zipcode_table.json')"
   ]
  },
  {
   "cell_type": "code",
   "execution_count": null,
   "metadata": {},
   "outputs": [],
   "source": [
    "# Create a loading point to skip all the previous cells when rerunning\n",
    "# the code further past this cell\n",
    "zip_state_table_df = pd.read_csv('../TableData/zipcode_table.csv')"
   ]
  },
  {
   "cell_type": "code",
   "execution_count": null,
   "metadata": {},
   "outputs": [],
   "source": [
    "# Verify that the load of the data was successful\n",
    "print(zip_state_table_df.shape)\n",
    "zip_state_table_df.head()"
   ]
  },
  {
   "cell_type": "code",
   "execution_count": null,
   "metadata": {},
   "outputs": [],
   "source": []
  }
 ],
 "metadata": {
  "kernelspec": {
   "display_name": "dev",
   "language": "python",
   "name": "python3"
  },
  "language_info": {
   "codemirror_mode": {
    "name": "ipython",
    "version": 3
   },
   "file_extension": ".py",
   "mimetype": "text/x-python",
   "name": "python",
   "nbconvert_exporter": "python",
   "pygments_lexer": "ipython3",
   "version": "3.10.11"
  },
  "orig_nbformat": 4
 },
 "nbformat": 4,
 "nbformat_minor": 2
}
